{
 "cells": [
  {
   "cell_type": "markdown",
   "id": "1637fa79-12fd-40f7-a244-fac0bc2da225",
   "metadata": {},
   "source": [
    "# Automatic File Sorter in File Explorer "
   ]
  },
  {
   "cell_type": "code",
   "execution_count": 25,
   "id": "81ff2a63-ce6a-4ef5-825c-fd4008293421",
   "metadata": {},
   "outputs": [],
   "source": [
    "import os, shutil"
   ]
  },
  {
   "cell_type": "code",
   "execution_count": 26,
   "id": "e1dc7a57-6fe9-43a7-a23c-6855482c5626",
   "metadata": {},
   "outputs": [],
   "source": [
    "path  = r\"C:/Users/HP/Documents/ptytut/\""
   ]
  },
  {
   "cell_type": "code",
   "execution_count": 42,
   "id": "fc48db59-04ad-4240-9639-e6e9be3c098e",
   "metadata": {},
   "outputs": [],
   "source": [
    "File_name = os.listdir(path)"
   ]
  },
  {
   "cell_type": "code",
   "execution_count": 69,
   "id": "ae84ee22-65d9-4580-83e1-7b2557a308f5",
   "metadata": {},
   "outputs": [
    {
     "name": "stdout",
     "output_type": "stream",
     "text": [
      "There are files in this path that were not moved\n"
     ]
    }
   ],
   "source": [
    "import os\n",
    "\n",
    "folder_names = ['csv files', 'image files', 'text files']\n",
    "\n",
    "for loop in range(0, 3):\n",
    "    if not os.path.exists(path + folder_names[loop]):\n",
    "        print(path + folder_names[loop])\n",
    "        os.makedirs(path + folder_names[loop])\n",
    "for file in File_name:\n",
    "    if os.path.isfile(os.path.join(path, file)):\n",
    "        if \".csv\" in file and not os.path.exists(os.path.join(path, \"csv files\", file)):\n",
    "            shutil.move(os.path.join(path, file), os.path.join(path, \"csv files\", file))\n",
    "        elif \".png\" in file and not os.path.exists(os.path.join(path, \"image files\", file)):\n",
    "            shutil.move(os.path.join(path, file), os.path.join(path, \"image files\", file))\n",
    "        elif \".txt\" in file and not os.path.exists(os.path.join(path, \"text files\", file)):\n",
    "             shutil.move(os.path.join(path, file), os.path.join(path, \"text files\", file))\n",
    "        else:\n",
    "            print(\"There are files in this path that were not moved\")"
   ]
  },
  {
   "cell_type": "code",
   "execution_count": null,
   "id": "5d6301d1-70d3-42fe-9bfc-dccf2d2d7c19",
   "metadata": {},
   "outputs": [],
   "source": []
  }
 ],
 "metadata": {
  "kernelspec": {
   "display_name": "Python 3 (ipykernel)",
   "language": "python",
   "name": "python3"
  },
  "language_info": {
   "codemirror_mode": {
    "name": "ipython",
    "version": 3
   },
   "file_extension": ".py",
   "mimetype": "text/x-python",
   "name": "python",
   "nbconvert_exporter": "python",
   "pygments_lexer": "ipython3",
   "version": "3.11.7"
  }
 },
 "nbformat": 4,
 "nbformat_minor": 5
}
