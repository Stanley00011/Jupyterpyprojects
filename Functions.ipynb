{
 "cells": [
  {
   "cell_type": "code",
   "execution_count": 1,
   "id": "31a88cd6-7327-4108-bd8a-011af48c0c77",
   "metadata": {},
   "outputs": [],
   "source": [
    "def first_func():\n",
    "    print('We did it!')"
   ]
  },
  {
   "cell_type": "code",
   "execution_count": 2,
   "id": "7820bcc0-961a-4385-b85f-bd3dfd688dea",
   "metadata": {},
   "outputs": [
    {
     "name": "stdout",
     "output_type": "stream",
     "text": [
      "We did it!\n"
     ]
    }
   ],
   "source": [
    "first_func()"
   ]
  },
  {
   "cell_type": "code",
   "execution_count": 3,
   "id": "d8f68598-b4be-4d3b-b362-9119449b06c9",
   "metadata": {},
   "outputs": [],
   "source": [
    "def number_squared(number):\n",
    "    print(number**2)"
   ]
  },
  {
   "cell_type": "code",
   "execution_count": 4,
   "id": "ec398604-a218-4df5-a6ee-f429c161a828",
   "metadata": {},
   "outputs": [
    {
     "name": "stdout",
     "output_type": "stream",
     "text": [
      "25\n"
     ]
    }
   ],
   "source": [
    "number_squared(5)"
   ]
  },
  {
   "cell_type": "code",
   "execution_count": 6,
   "id": "af214b14-58d2-4a74-bc12-d3f9d1fc7ff6",
   "metadata": {},
   "outputs": [],
   "source": [
    "#multiple arguments \n",
    "def number_squared_cust(number,power):\n",
    "    print(number**power)\n"
   ]
  },
  {
   "cell_type": "code",
   "execution_count": 7,
   "id": "afa72c51-e48b-4ad2-8830-bd8dd09e66e6",
   "metadata": {},
   "outputs": [
    {
     "name": "stdout",
     "output_type": "stream",
     "text": [
      "125\n"
     ]
    }
   ],
   "source": [
    "number_squared_cust(5,3)"
   ]
  },
  {
   "cell_type": "code",
   "execution_count": 18,
   "id": "c3ce337e-5c42-43a9-bd7d-d7ea4f71de91",
   "metadata": {},
   "outputs": [],
   "source": [
    "# Arbituary arguments\n",
    "args_tuple = (5,6,1,2,8)\n",
    "def number_args(*number):\n",
    "    print(number[0]*number[1])"
   ]
  },
  {
   "cell_type": "code",
   "execution_count": 22,
   "id": "a72832f1-c749-4824-8f6d-9218730957b8",
   "metadata": {},
   "outputs": [
    {
     "name": "stdout",
     "output_type": "stream",
     "text": [
      "30\n"
     ]
    }
   ],
   "source": [
    "number_args(*args_tuple)"
   ]
  },
  {
   "cell_type": "markdown",
   "id": "6961279a-8bca-469e-a161-de99060b7741",
   "metadata": {},
   "source": [
    "# Key Word Argument"
   ]
  },
  {
   "cell_type": "code",
   "execution_count": 23,
   "id": "9c5e1969-7d72-4489-a837-ab9e7300bbd2",
   "metadata": {},
   "outputs": [],
   "source": [
    "def number_squared_cust(number,power):\n",
    "    print(number**power)"
   ]
  },
  {
   "cell_type": "code",
   "execution_count": 24,
   "id": "8d58e7d6-406b-4f7d-98d6-058e04a1758b",
   "metadata": {},
   "outputs": [
    {
     "name": "stdout",
     "output_type": "stream",
     "text": [
      "243\n"
     ]
    }
   ],
   "source": [
    "number_squared_cust(power = 5,number = 3)"
   ]
  },
  {
   "cell_type": "markdown",
   "id": "4931ccd1-796a-42c6-b163-2c68686ad074",
   "metadata": {},
   "source": [
    "# Arbitrary Keyword"
   ]
  },
  {
   "cell_type": "code",
   "execution_count": 29,
   "id": "02037d47-eb60-4724-8fe7-3775f3597024",
   "metadata": {},
   "outputs": [],
   "source": [
    "def number_kwarg(**number):\n",
    "    print('My number is: ' + number['integer'] + 'My other number: ' + number['integer2'])"
   ]
  },
  {
   "cell_type": "code",
   "execution_count": 30,
   "id": "ad1549c9-58be-4a15-9782-4fc95f5ae9f7",
   "metadata": {},
   "outputs": [
    {
     "name": "stdout",
     "output_type": "stream",
     "text": [
      "My number is: 2309My other number: 349\n"
     ]
    }
   ],
   "source": [
    "number_kwarg(integer = '2309', integer2 = '349')"
   ]
  },
  {
   "cell_type": "code",
   "execution_count": null,
   "id": "80614021-650f-4b26-8c9f-a0dbdb4ccd2d",
   "metadata": {},
   "outputs": [],
   "source": []
  },
  {
   "cell_type": "code",
   "execution_count": null,
   "id": "bd2d696a-e297-4ae5-aef2-74564535ff53",
   "metadata": {},
   "outputs": [],
   "source": []
  }
 ],
 "metadata": {
  "kernelspec": {
   "display_name": "Python 3 (ipykernel)",
   "language": "python",
   "name": "python3"
  },
  "language_info": {
   "codemirror_mode": {
    "name": "ipython",
    "version": 3
   },
   "file_extension": ".py",
   "mimetype": "text/x-python",
   "name": "python",
   "nbconvert_exporter": "python",
   "pygments_lexer": "ipython3",
   "version": "3.11.7"
  }
 },
 "nbformat": 4,
 "nbformat_minor": 5
}
